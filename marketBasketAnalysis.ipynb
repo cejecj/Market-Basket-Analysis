{
 "cells": [
  {
   "cell_type": "markdown",
   "metadata": {},
   "source": [
    "## Market Basket Analysis"
   ]
  },
  {
   "cell_type": "markdown",
   "metadata": {},
   "source": [
    "#### Import libraries"
   ]
  },
  {
   "cell_type": "code",
   "execution_count": 1,
   "metadata": {},
   "outputs": [
    {
     "name": "stderr",
     "output_type": "stream",
     "text": [
      "Warning message:\n",
      "\"package 'arules' was built under R version 3.6.3\"Loading required package: Matrix\n",
      "\n",
      "Attaching package: 'arules'\n",
      "\n",
      "The following objects are masked from 'package:base':\n",
      "\n",
      "    abbreviate, write\n",
      "\n",
      "Warning message:\n",
      "\"package 'arulesViz' was built under R version 3.6.3\"Loading required package: grid\n",
      "Registered S3 methods overwritten by 'ggplot2':\n",
      "  method         from \n",
      "  [.quosures     rlang\n",
      "  c.quosures     rlang\n",
      "  print.quosures rlang\n"
     ]
    }
   ],
   "source": [
    "library(arules)\n",
    "library(arulesViz)"
   ]
  },
  {
   "cell_type": "markdown",
   "metadata": {},
   "source": [
    "#### Load in data"
   ]
  },
  {
   "cell_type": "code",
   "execution_count": 2,
   "metadata": {},
   "outputs": [
    {
     "name": "stderr",
     "output_type": "stream",
     "text": [
      "Warning message in readLines(file, encoding = encoding):\n",
      "\"incomplete final line found on 'R Projects/Association Rules/ElectronidexTransactions2017.csv'\"Warning message in asMethod(object):\n",
      "\"removing duplicated items in transactions\""
     ]
    }
   ],
   "source": [
    "transactions <- read.transactions('R Projects/Association Rules/ElectronidexTransactions2017.csv', format = 'basket', sep = ',', rm.duplicates = FALSE)"
   ]
  },
  {
   "cell_type": "markdown",
   "metadata": {},
   "source": [
    "#### EDA / Visualizations"
   ]
  },
  {
   "cell_type": "code",
   "execution_count": 3,
   "metadata": {},
   "outputs": [
    {
     "data": {
      "text/plain": [
       "transactions as itemMatrix in sparse format with\n",
       " 9835 rows (elements/itemsets/transactions) and\n",
       " 125 columns (items) and a density of 0.03506172 \n",
       "\n",
       "most frequent items:\n",
       "                    iMac                HP Laptop CYBERPOWER Gamer Desktop \n",
       "                    2519                     1909                     1809 \n",
       "           Apple Earpods        Apple MacBook Air                  (Other) \n",
       "                    1715                     1530                    33622 \n",
       "\n",
       "element (itemset/transaction) length distribution:\n",
       "sizes\n",
       "   0    1    2    3    4    5    6    7    8    9   10   11   12   13   14   15 \n",
       "   2 2163 1647 1294 1021  856  646  540  439  353  247  171  119   77   72   56 \n",
       "  16   17   18   19   20   21   22   23   25   26   27   29   30 \n",
       "  41   26   20   10   10   10    5    3    1    1    3    1    1 \n",
       "\n",
       "   Min. 1st Qu.  Median    Mean 3rd Qu.    Max. \n",
       "  0.000   2.000   3.000   4.383   6.000  30.000 \n",
       "\n",
       "includes extended item information - examples:\n",
       "                            labels\n",
       "1 1TB Portable External Hard Drive\n",
       "2 2TB Portable External Hard Drive\n",
       "3                   3-Button Mouse"
      ]
     },
     "metadata": {},
     "output_type": "display_data"
    }
   ],
   "source": [
    "summary(transactions)"
   ]
  },
  {
   "cell_type": "markdown",
   "metadata": {},
   "source": [
    "##### - 9,835 transactions and 125 different items.\n",
    "##### - On average, transactions contained roughly 4 items (median of 3)"
   ]
  },
  {
   "cell_type": "code",
   "execution_count": 4,
   "metadata": {},
   "outputs": [
    {
     "name": "stdout",
     "output_type": "stream",
     "text": [
      "     items                                  \n",
      "[1]  {AOC Monitor,                          \n",
      "      CYBERPOWER Gamer Desktop,             \n",
      "      Eluktronics Pro Gaming Laptop,        \n",
      "      iMac}                                 \n",
      "[2]  {3-Button Mouse,                       \n",
      "      DOSS Touch Wireless Bluetooth,        \n",
      "      iMac,                                 \n",
      "      Lenovo Desktop Computer,              \n",
      "      Rii LED Gaming Keyboard & Mouse Combo}\n",
      "[3]  {3-Button Mouse,                       \n",
      "      Dell Desktop,                         \n",
      "      HP Monitor}                           \n",
      "[4]  {Apple MacBook Pro,                    \n",
      "      HP Monitor,                           \n",
      "      HP Wireless Printer}                  \n",
      "[5]  {Apple Wireless Keyboard,              \n",
      "      Bose Companion Speakers}              \n",
      "[6]  {Eluktronics Pro Gaming Laptop,        \n",
      "      Etekcity Power Extension Cord Cable,  \n",
      "      HP Wireless Printer,                  \n",
      "      Microsoft Basic Optical Mouse,        \n",
      "      Panasonic In-Ear Headphone}           \n",
      "[7]  {Apple MacBook Pro,                    \n",
      "      CYBERPOWER Gamer Desktop,             \n",
      "      Slim 2TB Portable External Hard Drive}\n",
      "[8]  {ViewSonic Monitor}                    \n",
      "[9]  {Samsung Monitor}                      \n",
      "[10] {Backlit LED Gaming Keyboard,          \n",
      "      Brother Printer,                      \n",
      "      Epson Printer,                        \n",
      "      PC Gaming Headset}                    \n"
     ]
    }
   ],
   "source": [
    "inspect(sample(transactions, 10))"
   ]
  },
  {
   "cell_type": "code",
   "execution_count": 5,
   "metadata": {},
   "outputs": [
    {
     "data": {
      "image/png": "[encoded data removed]",
      "text/plain": [
       "plot without title"
      ]
     },
     "metadata": {},
     "output_type": "display_data"
    }
   ],
   "source": [
    "itemFrequencyPlot(transactions, topN = 20, type = 'relative', xlab = 'Item', ylab = 'Frequency', cex.names = .7)"
   ]
  },
  {
   "cell_type": "markdown",
   "metadata": {},
   "source": [
    "##### - Over a quarter of purchases included an iMac"
   ]
  },
  {
   "cell_type": "code",
   "execution_count": 6,
   "metadata": {},
   "outputs": [
    {
     "data": {
      "image/png": "[encoded data removed]",
      "text/plain": [
       "plot without title"
      ]
     },
     "metadata": {},
     "output_type": "display_data"
    }
   ],
   "source": [
    "image(sample(transactions, 50))"
   ]
  },
  {
   "cell_type": "markdown",
   "metadata": {},
   "source": [
    "#### Create Rules"
   ]
  },
  {
   "cell_type": "code",
   "execution_count": 7,
   "metadata": {},
   "outputs": [
    {
     "name": "stdout",
     "output_type": "stream",
     "text": [
      "Apriori\n",
      "\n",
      "Parameter specification:\n",
      " confidence minval smax arem  aval originalSupport maxtime support minlen\n",
      "       0.45    0.1    1 none FALSE            TRUE       5    0.01      1\n",
      " maxlen target  ext\n",
      "     10  rules TRUE\n",
      "\n",
      "Algorithmic control:\n",
      " filter tree heap memopt load sort verbose\n",
      "    0.1 TRUE TRUE  FALSE TRUE    2    TRUE\n",
      "\n",
      "Absolute minimum support count: 98 \n",
      "\n",
      "set item appearances ...[0 item(s)] done [0.00s].\n",
      "set transactions ...[125 item(s), 9835 transaction(s)] done [0.00s].\n",
      "sorting and recoding items ... [82 item(s)] done [0.00s].\n",
      "creating transaction tree ... done [0.00s].\n",
      "checking subsets of size 1 2 3 4 done [0.00s].\n",
      "writing ... [37 rule(s)] done [0.00s].\n",
      "creating S4 object  ... done [0.00s].\n"
     ]
    },
    {
     "data": {
      "text/plain": [
       "set of 37 rules\n",
       "\n",
       "rule length distribution (lhs + rhs):sizes\n",
       " 2  3 \n",
       " 4 33 \n",
       "\n",
       "   Min. 1st Qu.  Median    Mean 3rd Qu.    Max. \n",
       "  2.000   3.000   3.000   2.892   3.000   3.000 \n",
       "\n",
       "summary of quality measures:\n",
       "    support          confidence        coverage            lift      \n",
       " Min.   :0.01007   Min.   :0.4511   Min.   :0.01739   Min.   :1.761  \n",
       " 1st Qu.:0.01088   1st Qu.:0.4742   1st Qu.:0.02206   1st Qu.:1.927  \n",
       " Median :0.01281   Median :0.5000   Median :0.02430   Median :2.058  \n",
       " Mean   :0.01543   Mean   :0.5101   Mean   :0.03076   Mean   :2.144  \n",
       " 3rd Qu.:0.01596   3rd Qu.:0.5440   3rd Qu.:0.03233   3rd Qu.:2.308  \n",
       " Max.   :0.03233   Max.   :0.6023   Max.   :0.07168   Max.   :3.103  \n",
       "     count      \n",
       " Min.   : 99.0  \n",
       " 1st Qu.:107.0  \n",
       " Median :126.0  \n",
       " Mean   :151.7  \n",
       " 3rd Qu.:157.0  \n",
       " Max.   :318.0  \n",
       "\n",
       "mining info:\n",
       "         data ntransactions support confidence\n",
       " transactions          9835    0.01       0.45"
      ]
     },
     "metadata": {},
     "output_type": "display_data"
    }
   ],
   "source": [
    "rules <- apriori(transactions, parameter = list(supp = .01, conf = .45))\n",
    "summary(rules)"
   ]
  },
  {
   "cell_type": "markdown",
   "metadata": {},
   "source": [
    "##### - 37 rules using support = .01 and conf = .45. These were about the highest these numbers could go while still allowing for rule creation."
   ]
  },
  {
   "cell_type": "markdown",
   "metadata": {},
   "source": [
    "#### Inspect rules"
   ]
  },
  {
   "cell_type": "code",
   "execution_count": 8,
   "metadata": {},
   "outputs": [
    {
     "name": "stdout",
     "output_type": "stream",
     "text": [
      "     lhs                                         rhs            support confidence   coverage     lift count\n",
      "[1]  {ASUS 2 Monitor}                         => {iMac}      0.02806304  0.4867725 0.05765125 1.900519   276\n",
      "[2]  {ASUS Monitor}                           => {iMac}      0.02765633  0.4990826 0.05541434 1.948582   272\n",
      "[3]  {Microsoft Office Home and Student 2016} => {iMac}      0.03101169  0.4663609 0.06649720 1.820825   305\n",
      "[4]  {Apple Magic Keyboard}                   => {iMac}      0.03233350  0.4510638 0.07168277 1.761101   318\n",
      "[5]  {HP Laptop,                                                                                            \n",
      "      LG Monitor}                             => {iMac}      0.01026945  0.4741784 0.02165735 1.851348   101\n",
      "[6]  {iMac,                                                                                                 \n",
      "      LG Monitor}                             => {HP Laptop} 0.01026945  0.4611872 0.02226741 2.375996   101\n",
      "[7]  {ASUS 2 Monitor,                                                                                       \n",
      "      Lenovo Desktop Computer}                => {iMac}      0.01087951  0.5911602 0.01840366 2.308083   107\n",
      "[8]  {ASUS 2 Monitor,                                                                                       \n",
      "      HP Laptop}                              => {iMac}      0.01108287  0.5828877 0.01901373 2.275784   109\n",
      "[9]  {ASUS Monitor,                                                                                         \n",
      "      HP Laptop}                              => {iMac}      0.01179461  0.5829146 0.02023386 2.275889   116\n",
      "[10] {HP Laptop,                                                                                            \n",
      "      Microsoft Office Home and Student 2016} => {iMac}      0.01291307  0.5521739 0.02338587 2.155868   127\n"
     ]
    }
   ],
   "source": [
    "inspect(rules[0:10])"
   ]
  },
  {
   "cell_type": "code",
   "execution_count": 9,
   "metadata": {},
   "outputs": [
    {
     "name": "stdout",
     "output_type": "stream",
     "text": [
      "     lhs                                         rhs         support   \n",
      "[1]  {Apple Magic Keyboard}                   => {iMac}      0.03233350\n",
      "[2]  {Microsoft Office Home and Student 2016} => {iMac}      0.03101169\n",
      "[3]  {ASUS 2 Monitor}                         => {iMac}      0.02806304\n",
      "[4]  {ASUS Monitor}                           => {iMac}      0.02765633\n",
      "[5]  {HP Laptop,ViewSonic Monitor}            => {iMac}      0.02369090\n",
      "[6]  {iMac,ViewSonic Monitor}                 => {HP Laptop} 0.02369090\n",
      "[7]  {HP Laptop,Lenovo Desktop Computer}      => {iMac}      0.02308083\n",
      "[8]  {Dell Desktop,HP Laptop}                 => {iMac}      0.02226741\n",
      "[9]  {Dell Desktop,Lenovo Desktop Computer}   => {iMac}      0.01860702\n",
      "[10] {Acer Desktop,HP Laptop}                 => {iMac}      0.01596340\n",
      "     confidence coverage   lift     count\n",
      "[1]  0.4510638  0.07168277 1.761101 318  \n",
      "[2]  0.4663609  0.06649720 1.820825 305  \n",
      "[3]  0.4867725  0.05765125 1.900519 276  \n",
      "[4]  0.4990826  0.05541434 1.948582 272  \n",
      "[5]  0.4936441  0.04799187 1.927348 233  \n",
      "[6]  0.4794239  0.04941535 2.469950 233  \n",
      "[7]  0.5000000  0.04616167 1.952164 227  \n",
      "[8]  0.4954751  0.04494154 1.934497 219  \n",
      "[9]  0.5069252  0.03670564 1.979202 183  \n",
      "[10] 0.5114007  0.03121505 1.996675 157  \n"
     ]
    }
   ],
   "source": [
    "inspect(sort(rules, by = 'support')[0:10])"
   ]
  },
  {
   "cell_type": "markdown",
   "metadata": {},
   "source": [
    "##### - First impression is that there are a lot of different itmes (or item combinations) that lead to a customer buying an iMac. Looking at the top rules, it makes sense that if someone buys a computer accessory, they would also be buying the computer, but interestingly the rules do not state the inverse is true (that people buying an iMac also buy an accessory). "
   ]
  },
  {
   "cell_type": "code",
   "execution_count": 10,
   "metadata": {},
   "outputs": [
    {
     "data": {
      "text/html": [
       "0"
      ],
      "text/latex": [
       "0"
      ],
      "text/markdown": [
       "0"
      ],
      "text/plain": [
       "[1] 0"
      ]
     },
     "metadata": {},
     "output_type": "display_data"
    }
   ],
   "source": [
    "sum(is.redundant(rules))"
   ]
  },
  {
   "cell_type": "markdown",
   "metadata": {},
   "source": [
    "##### - No redundant rules"
   ]
  },
  {
   "cell_type": "code",
   "execution_count": 11,
   "metadata": {},
   "outputs": [
    {
     "name": "stderr",
     "output_type": "stream",
     "text": [
      "To reduce overplotting, jitter is added! Use jitter = 0 to prevent jitter.\n"
     ]
    },
    {
     "data": {
      "image/png": "[encoded data removed]",
      "text/plain": [
       "plot without title"
      ]
     },
     "metadata": {},
     "output_type": "display_data"
    }
   ],
   "source": [
    "plot(rules)"
   ]
  },
  {
   "cell_type": "code",
   "execution_count": 12,
   "metadata": {},
   "outputs": [
    {
     "data": {
      "image/png": "[encoded data removed]",
      "text/plain": [
       "Plot with title \"Graph for 15 rules\""
      ]
     },
     "metadata": {},
     "output_type": "display_data"
    }
   ],
   "source": [
    "plot(sort(rules, by = 'support')[0:15], method = 'graph')"
   ]
  },
  {
   "cell_type": "markdown",
   "metadata": {},
   "source": [
    "##### - This company should offer promotions pushing iMacs and HP Laptops to customers who buy or view computer-related accessories. Specifically, keyboards, monitors, and Microsoft Office are strong indicators of a customer also buying an iMac or HP Laptop."
   ]
  },
  {
   "cell_type": "code",
   "execution_count": null,
   "metadata": {},
   "outputs": [],
   "source": []
  }
 ],
 "metadata": {
  "kernelspec": {
   "display_name": "R",
   "language": "R",
   "name": "ir"
  },
  "language_info": {
   "codemirror_mode": "r",
   "file_extension": ".r",
   "mimetype": "text/x-r-source",
   "name": "R",
   "pygments_lexer": "r",
   "version": "3.6.1"
  }
 },
 "nbformat": 4,
 "nbformat_minor": 4
}
